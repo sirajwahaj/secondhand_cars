{
 "cells": [
  {
   "cell_type": "code",
   "execution_count": 36,
   "metadata": {},
   "outputs": [],
   "source": [
    "import pandas as pd\n",
    "import matplotlib.pyplot as plt\n",
    "\n",
    "cardf = pd.read_csv('used_car_sales.csv')"
   ]
  },
  {
   "cell_type": "code",
   "execution_count": 2,
   "metadata": {},
   "outputs": [
    {
     "data": {
      "text/html": [
       "<div>\n",
       "<style scoped>\n",
       "    .dataframe tbody tr th:only-of-type {\n",
       "        vertical-align: middle;\n",
       "    }\n",
       "\n",
       "    .dataframe tbody tr th {\n",
       "        vertical-align: top;\n",
       "    }\n",
       "\n",
       "    .dataframe thead th {\n",
       "        text-align: right;\n",
       "    }\n",
       "</style>\n",
       "<table border=\"1\" class=\"dataframe\">\n",
       "  <thead>\n",
       "    <tr style=\"text-align: right;\">\n",
       "      <th></th>\n",
       "      <th>ID</th>\n",
       "      <th>pricesold</th>\n",
       "      <th>yearsold</th>\n",
       "      <th>zipcode</th>\n",
       "      <th>Mileage</th>\n",
       "      <th>Make</th>\n",
       "      <th>Model</th>\n",
       "      <th>Year</th>\n",
       "      <th>Trim</th>\n",
       "      <th>Engine</th>\n",
       "      <th>BodyType</th>\n",
       "      <th>NumCylinders</th>\n",
       "      <th>DriveType</th>\n",
       "    </tr>\n",
       "  </thead>\n",
       "  <tbody>\n",
       "    <tr>\n",
       "      <th>0</th>\n",
       "      <td>137178</td>\n",
       "      <td>7500</td>\n",
       "      <td>2020</td>\n",
       "      <td>786**</td>\n",
       "      <td>84430</td>\n",
       "      <td>Ford</td>\n",
       "      <td>Mustang</td>\n",
       "      <td>1988</td>\n",
       "      <td>LX</td>\n",
       "      <td>5.0L Gas V8</td>\n",
       "      <td>Sedan</td>\n",
       "      <td>0</td>\n",
       "      <td>RWD</td>\n",
       "    </tr>\n",
       "    <tr>\n",
       "      <th>1</th>\n",
       "      <td>96705</td>\n",
       "      <td>15000</td>\n",
       "      <td>2019</td>\n",
       "      <td>81006</td>\n",
       "      <td>0</td>\n",
       "      <td>Replica/Kit Makes</td>\n",
       "      <td>Jaguar Beck Lister</td>\n",
       "      <td>1958</td>\n",
       "      <td>NaN</td>\n",
       "      <td>383 Fuel injected</td>\n",
       "      <td>Convertible</td>\n",
       "      <td>8</td>\n",
       "      <td>RWD</td>\n",
       "    </tr>\n",
       "    <tr>\n",
       "      <th>2</th>\n",
       "      <td>119660</td>\n",
       "      <td>8750</td>\n",
       "      <td>2020</td>\n",
       "      <td>33449</td>\n",
       "      <td>55000</td>\n",
       "      <td>Jaguar</td>\n",
       "      <td>XJS</td>\n",
       "      <td>1995</td>\n",
       "      <td>2+2 Cabriolet</td>\n",
       "      <td>4.0L In-Line 6 Cylinder</td>\n",
       "      <td>Convertible</td>\n",
       "      <td>6</td>\n",
       "      <td>RWD</td>\n",
       "    </tr>\n",
       "    <tr>\n",
       "      <th>3</th>\n",
       "      <td>80773</td>\n",
       "      <td>11600</td>\n",
       "      <td>2019</td>\n",
       "      <td>07852</td>\n",
       "      <td>97200</td>\n",
       "      <td>Ford</td>\n",
       "      <td>Mustang</td>\n",
       "      <td>1968</td>\n",
       "      <td>Stock</td>\n",
       "      <td>289 cu. in. V8</td>\n",
       "      <td>Coupe</td>\n",
       "      <td>8</td>\n",
       "      <td>RWD</td>\n",
       "    </tr>\n",
       "    <tr>\n",
       "      <th>4</th>\n",
       "      <td>64287</td>\n",
       "      <td>44000</td>\n",
       "      <td>2019</td>\n",
       "      <td>07728</td>\n",
       "      <td>40703</td>\n",
       "      <td>Porsche</td>\n",
       "      <td>911</td>\n",
       "      <td>2002</td>\n",
       "      <td>Turbo X-50</td>\n",
       "      <td>3.6L</td>\n",
       "      <td>Coupe</td>\n",
       "      <td>6</td>\n",
       "      <td>AWD</td>\n",
       "    </tr>\n",
       "  </tbody>\n",
       "</table>\n",
       "</div>"
      ],
      "text/plain": [
       "       ID  pricesold  yearsold zipcode  Mileage               Make   \n",
       "0  137178       7500      2020   786**    84430               Ford  \\\n",
       "1   96705      15000      2019   81006        0  Replica/Kit Makes   \n",
       "2  119660       8750      2020   33449    55000             Jaguar   \n",
       "3   80773      11600      2019   07852    97200               Ford   \n",
       "4   64287      44000      2019   07728    40703            Porsche   \n",
       "\n",
       "                Model  Year           Trim                   Engine   \n",
       "0             Mustang  1988             LX              5.0L Gas V8  \\\n",
       "1  Jaguar Beck Lister  1958            NaN        383 Fuel injected   \n",
       "2                 XJS  1995  2+2 Cabriolet  4.0L In-Line 6 Cylinder   \n",
       "3             Mustang  1968          Stock           289 cu. in. V8   \n",
       "4                 911  2002     Turbo X-50                     3.6L   \n",
       "\n",
       "      BodyType  NumCylinders DriveType  \n",
       "0        Sedan             0       RWD  \n",
       "1  Convertible             8       RWD  \n",
       "2  Convertible             6       RWD  \n",
       "3        Coupe             8       RWD  \n",
       "4        Coupe             6       AWD  "
      ]
     },
     "execution_count": 2,
     "metadata": {},
     "output_type": "execute_result"
    }
   ],
   "source": [
    "cardf.head()"
   ]
  },
  {
   "cell_type": "code",
   "execution_count": 3,
   "metadata": {},
   "outputs": [
    {
     "data": {
      "text/plain": [
       "(122144, 13)"
      ]
     },
     "execution_count": 3,
     "metadata": {},
     "output_type": "execute_result"
    }
   ],
   "source": [
    "cardf.shape"
   ]
  },
  {
   "cell_type": "code",
   "execution_count": 19,
   "metadata": {},
   "outputs": [
    {
     "data": {
      "text/plain": [
       "['ID',\n",
       " 'pricesold',\n",
       " 'yearsold',\n",
       " 'zipcode',\n",
       " 'Mileage',\n",
       " 'Make',\n",
       " 'Model',\n",
       " 'Year',\n",
       " 'Trim',\n",
       " 'Engine',\n",
       " 'BodyType',\n",
       " 'NumCylinders',\n",
       " 'DriveType']"
      ]
     },
     "execution_count": 19,
     "metadata": {},
     "output_type": "execute_result"
    }
   ],
   "source": [
    "cardf.columns.tolist()"
   ]
  },
  {
   "cell_type": "code",
   "execution_count": 5,
   "metadata": {},
   "outputs": [
    {
     "data": {
      "text/plain": [
       "ID               int64\n",
       "pricesold        int64\n",
       "yearsold         int64\n",
       "zipcode         object\n",
       "Mileage          int64\n",
       "Make            object\n",
       "Model           object\n",
       "Year             int64\n",
       "Trim            object\n",
       "Engine          object\n",
       "BodyType        object\n",
       "NumCylinders     int64\n",
       "DriveType       object\n",
       "dtype: object"
      ]
     },
     "execution_count": 5,
     "metadata": {},
     "output_type": "execute_result"
    }
   ],
   "source": [
    "cardf.dtypes"
   ]
  },
  {
   "cell_type": "code",
   "execution_count": 7,
   "metadata": {},
   "outputs": [
    {
     "data": {
      "text/plain": [
       "ID                  0\n",
       "pricesold           0\n",
       "yearsold            0\n",
       "zipcode           909\n",
       "Mileage             0\n",
       "Make                0\n",
       "Model             573\n",
       "Year                0\n",
       "Trim            48936\n",
       "Engine          27204\n",
       "BodyType        20786\n",
       "NumCylinders        0\n",
       "DriveType       24857\n",
       "dtype: int64"
      ]
     },
     "execution_count": 7,
     "metadata": {},
     "output_type": "execute_result"
    }
   ],
   "source": [
    "cardf.isnull().sum()"
   ]
  },
  {
   "cell_type": "code",
   "execution_count": 18,
   "metadata": {},
   "outputs": [
    {
     "data": {
      "text/plain": [
       "22399"
      ]
     },
     "execution_count": 18,
     "metadata": {},
     "output_type": "execute_result"
    }
   ],
   "source": [
    "engines = cardf[\"Engine\"].unique()\n",
    "len(engines)"
   ]
  },
  {
   "cell_type": "code",
   "execution_count": 22,
   "metadata": {},
   "outputs": [
    {
     "data": {
      "text/plain": [
       "4290"
      ]
     },
     "execution_count": 22,
     "metadata": {},
     "output_type": "execute_result"
    }
   ],
   "source": [
    "models = cardf[\"Model\"].unique()\n",
    "len(models)"
   ]
  },
  {
   "cell_type": "code",
   "execution_count": 25,
   "metadata": {},
   "outputs": [
    {
     "data": {
      "text/plain": [
       "17"
      ]
     },
     "execution_count": 25,
     "metadata": {},
     "output_type": "execute_result"
    }
   ],
   "source": [
    "len(cardf[\"NumCylinders\"].unique().tolist())"
   ]
  },
  {
   "cell_type": "code",
   "execution_count": 26,
   "metadata": {},
   "outputs": [
    {
     "data": {
      "text/plain": [
       "pricesold\n",
       "5000      1225\n",
       "10000     1145\n",
       "6000      1074\n",
       "3000      1046\n",
       "4000      1045\n",
       "          ... \n",
       "136000       1\n",
       "82100        1\n",
       "404990       1\n",
       "81800        1\n",
       "41110        1\n",
       "Name: count, Length: 4424, dtype: int64"
      ]
     },
     "execution_count": 26,
     "metadata": {},
     "output_type": "execute_result"
    }
   ],
   "source": [
    "cardf[\"pricesold\"].value_counts()"
   ]
  },
  {
   "cell_type": "code",
   "execution_count": 47,
   "metadata": {},
   "outputs": [
    {
     "data": {
      "image/png": "[encoded data removed]",
      "text/plain": [
       "<Figure size 640x480 with 1 Axes>"
      ]
     },
     "metadata": {},
     "output_type": "display_data"
    }
   ],
   "source": [
    "cardf[\"yearsold\"] = pd.to_datetime(cardf[\"yearsold\"], format='%Y')\n",
    "grouped = cardf.groupby(\"yearsold\")['pricesold'].mean()\n",
    "\n",
    "plt.plot(grouped.index, grouped.values)\n",
    "plt.xlabel(\"yearsold\")\n",
    "plt.ylabel(\"pricesold\")\n",
    "plt.title(\"Secondhand cars price over the years\")\n",
    "plt.show()"
   ]
  }
 ],
 "metadata": {
  "kernelspec": {
   "display_name": "venv",
   "language": "python",
   "name": "python3"
  },
  "language_info": {
   "codemirror_mode": {
    "name": "ipython",
    "version": 3
   },
   "file_extension": ".py",
   "mimetype": "text/x-python",
   "name": "python",
   "nbconvert_exporter": "python",
   "pygments_lexer": "ipython3",
   "version": "3.11.2"
  },
  "orig_nbformat": 4
 },
 "nbformat": 4,
 "nbformat_minor": 2
}
